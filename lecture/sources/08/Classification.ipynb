{
 "cells": [
  {
   "cell_type": "code",
   "execution_count": 1,
   "metadata": {},
   "outputs": [],
   "source": [
    "%matplotlib widget\n",
    "import numpy as np\n",
    "\n",
    "import matplotlib.pyplot as plt\n",
    "\n",
    "from util import latexify, format_axes"
   ]
  },
  {
   "cell_type": "code",
   "execution_count": 2,
   "metadata": {},
   "outputs": [],
   "source": [
    "n = 20\n",
    "sigma = 1\n",
    "c0 = np.random.normal(loc=[4, 4], scale=[sigma, sigma], size=[n, 2])\n",
    "c1 = np.random.normal(loc=[0, 0], scale=[sigma, sigma], size=[n, 2])\n",
    "c2 = np.random.normal(loc=[0, 3], scale=[sigma, sigma], size=[n, 2])\n",
    "\n",
    "logistic = lambda a, b, x: np.exp(a*x+b)/(1+np.exp(a*x+b))"
   ]
  },
  {
   "cell_type": "code",
   "execution_count": 3,
   "metadata": {},
   "outputs": [
    {
     "name": "stdout",
     "output_type": "stream",
     "text": [
      "WARNING: fig_height too large: 4.326237921249264 so will reduce to 3.75 inches.\n"
     ]
    },
    {
     "data": {
      "application/vnd.jupyter.widget-view+json": {
       "model_id": "422f126f5c61461f8acb28bf4de91b0e",
       "version_major": 2,
       "version_minor": 0
      },
      "text/plain": [
       "Canvas(toolbar=Toolbar(toolitems=[('Home', 'Reset original view', 'home', 'home'), ('Back', 'Back to previous …"
      ]
     },
     "metadata": {},
     "output_type": "display_data"
    }
   ],
   "source": [
    "latexify()\n",
    "fig = plt.figure()\n",
    "ax = fig.add_subplot()\n",
    "ax = format_axes(ax)\n",
    "ax.scatter(c0[:, 0], c0[:, 1])\n",
    "ax.scatter(c1[:, 0], c1[:, 1])\n",
    "ax.set_xlabel('$x_0$')\n",
    "ax.set_ylabel('$x_1$')\n",
    "#ax.set_title('$f(x)$')\n",
    "ax.set_xticks([])\n",
    "ax.set_yticks([]) \n",
    "plt.savefig('images/classification.png', dpi=150, bbox_inches='tight')"
   ]
  },
  {
   "cell_type": "code",
   "execution_count": 4,
   "metadata": {},
   "outputs": [
    {
     "name": "stdout",
     "output_type": "stream",
     "text": [
      "WARNING: fig_height too large: 4.326237921249264 so will reduce to 3.75 inches.\n"
     ]
    },
    {
     "data": {
      "application/vnd.jupyter.widget-view+json": {
       "model_id": "5900e7827a8c44aa8b8c926445cb9c3e",
       "version_major": 2,
       "version_minor": 0
      },
      "text/plain": [
       "Canvas(toolbar=Toolbar(toolitems=[('Home', 'Reset original view', 'home', 'home'), ('Back', 'Back to previous …"
      ]
     },
     "metadata": {},
     "output_type": "display_data"
    }
   ],
   "source": [
    "latexify()\n",
    "fig = plt.figure()\n",
    "ax = fig.add_subplot()\n",
    "ax = format_axes(ax)\n",
    "ax.scatter(c0[:, 0], c0[:, 1])\n",
    "ax.scatter(c1[:, 0], c1[:, 1])\n",
    "ax.scatter(c2[:, 0], c2[:, 1])\n",
    "ax.set_xlabel('$x_0$')\n",
    "ax.set_ylabel('$x_1$')\n",
    "#ax.set_title('$f(x)$')\n",
    "ax.set_xticks([])\n",
    "ax.set_yticks([]) \n",
    "plt.savefig('images/classification_three.png', dpi=150, bbox_inches='tight')"
   ]
  },
  {
   "cell_type": "code",
   "execution_count": 18,
   "metadata": {},
   "outputs": [
    {
     "name": "stdout",
     "output_type": "stream",
     "text": [
      "WARNING: fig_height too large: 4.326237921249264 so will reduce to 3.75 inches.\n"
     ]
    },
    {
     "data": {
      "application/vnd.jupyter.widget-view+json": {
       "model_id": "4e75e719b2674d68ba41cd774d0d46b1",
       "version_major": 2,
       "version_minor": 0
      },
      "text/plain": [
       "Canvas(toolbar=Toolbar(toolitems=[('Home', 'Reset original view', 'home', 'home'), ('Back', 'Back to previous …"
      ]
     },
     "metadata": {},
     "output_type": "display_data"
    }
   ],
   "source": [
    "from sklearn.linear_model import LogisticRegression\n",
    "\n",
    "X = np.concatenate([c0, c1, c2], axis=0)\n",
    "T = np.concatenate([np.zeros(c0.shape[0]), np.ones(c1.shape[0]), np.ones(c1.shape[0])*2], axis=0)\n",
    "\n",
    "logreg = LogisticRegression(C=1e5)\n",
    "logreg.fit(X, T)\n",
    "\n",
    "\n",
    "x_min, x_max = X[:, 0].min() - .5, X[:, 0].max() + .5\n",
    "y_min, y_max = X[:, 1].min() - .5, X[:, 1].max() + .5\n",
    "h = .02  # step size in the mesh\n",
    "xx, yy = np.meshgrid(np.arange(x_min, x_max, h), np.arange(y_min, y_max, h))\n",
    "Z = logreg.predict(np.c_[xx.ravel(), yy.ravel()])\n",
    "\n",
    "\n",
    "latexify()\n",
    "fig = plt.figure()\n",
    "ax = fig.add_subplot()\n",
    "ax = format_axes(ax)\n",
    "\n",
    "Z = Z.reshape(xx.shape)\n",
    "ax.pcolormesh(xx, yy, Z, cmap=plt.cm.Paired, shading='nearest')\n",
    "ax.scatter(c0[:, 0], c0[:, 1])\n",
    "ax.scatter(c1[:, 0], c1[:, 1])\n",
    "ax.scatter(c2[:, 0], c2[:, 1])\n",
    "ax.set_xlabel('$x_0$')\n",
    "ax.set_ylabel('$x_1$')\n",
    "#ax.set_title('$f(x)$')\n",
    "ax.set_xticks([])\n",
    "ax.set_yticks([]) \n",
    "plt.savefig('images/classification_three_boundaries.png', dpi=150, bbox_inches='tight')"
   ]
  },
  {
   "cell_type": "code",
   "execution_count": 5,
   "metadata": {},
   "outputs": [
    {
     "name": "stdout",
     "output_type": "stream",
     "text": [
      "WARNING: fig_height too large: 4.326237921249264 so will reduce to 3.75 inches.\n"
     ]
    },
    {
     "data": {
      "application/vnd.jupyter.widget-view+json": {
       "model_id": "a596d2916fff4a29990974f2be66721b",
       "version_major": 2,
       "version_minor": 0
      },
      "text/plain": [
       "Canvas(toolbar=Toolbar(toolitems=[('Home', 'Reset original view', 'home', 'home'), ('Back', 'Back to previous …"
      ]
     },
     "metadata": {},
     "output_type": "display_data"
    }
   ],
   "source": [
    "latexify()\n",
    "fig = plt.figure()\n",
    "ax = fig.add_subplot()\n",
    "ax = format_axes(ax)\n",
    "ax.scatter(c0[:, 0], np.zeros(c0[:, 0].shape))\n",
    "ax.scatter(c1[:, 0], np.zeros(c1[:, 0].shape))\n",
    "#ax.plot(x, p)\n",
    "ax.set_xlabel('$x$')\n",
    "#ax.set_ylabel('$p$')\n",
    "#ax.set_title('$p(x)$')\n",
    "ax.set_xticks([])\n",
    "ax.set_yticks([]) \n",
    "plt.savefig('images/classification_1d.png', dpi=150, bbox_inches='tight')"
   ]
  },
  {
   "cell_type": "code",
   "execution_count": 6,
   "metadata": {},
   "outputs": [
    {
     "name": "stdout",
     "output_type": "stream",
     "text": [
      "WARNING: fig_height too large: 4.326237921249264 so will reduce to 3.75 inches.\n"
     ]
    },
    {
     "data": {
      "application/vnd.jupyter.widget-view+json": {
       "model_id": "9bca047dfc6a4d0089ffc25b9759eb93",
       "version_major": 2,
       "version_minor": 0
      },
      "text/plain": [
       "Canvas(toolbar=Toolbar(toolitems=[('Home', 'Reset original view', 'home', 'home'), ('Back', 'Back to previous …"
      ]
     },
     "metadata": {},
     "output_type": "display_data"
    }
   ],
   "source": [
    "il = min(np.min(c0), np.min(c1))\n",
    "iu = max(np.max(c0), np.max(c1))\n",
    "x = np.linspace(il, iu, num=100)\n",
    "p = 3*x-6\n",
    "\n",
    "latexify()\n",
    "fig = plt.figure()\n",
    "ax = fig.add_subplot()\n",
    "ax = format_axes(ax)\n",
    "ax.scatter(c0[:, 0], np.zeros(c0[:, 0].shape))\n",
    "ax.scatter(c1[:, 0], np.zeros(c1[:, 0].shape))\n",
    "ax.plot(x, p)\n",
    "ax.set_xlabel('$x$')\n",
    "ax.set_ylabel('$p$')\n",
    "ax.set_title(r'$p(x) = \\alpha x + \\beta$')\n",
    "ax.set_xticks([])\n",
    "#ax.set_yticks([]) \n",
    "plt.savefig('images/classification_1d_linp.png', dpi=150, bbox_inches='tight')"
   ]
  },
  {
   "cell_type": "code",
   "execution_count": 7,
   "metadata": {},
   "outputs": [
    {
     "name": "stdout",
     "output_type": "stream",
     "text": [
      "WARNING: fig_height too large: 4.326237921249264 so will reduce to 3.75 inches.\n"
     ]
    },
    {
     "data": {
      "application/vnd.jupyter.widget-view+json": {
       "model_id": "c4a480b1736145c48fcadfaf34286b2c",
       "version_major": 2,
       "version_minor": 0
      },
      "text/plain": [
       "Canvas(toolbar=Toolbar(toolitems=[('Home', 'Reset original view', 'home', 'home'), ('Back', 'Back to previous …"
      ]
     },
     "metadata": {},
     "output_type": "display_data"
    }
   ],
   "source": [
    "il = min(np.min(c0), np.min(c1))\n",
    "iu = max(np.max(c0), np.max(c1))\n",
    "x = np.linspace(il, iu, num=100)\n",
    "p = logistic(3, -6, x)\n",
    "\n",
    "latexify()\n",
    "fig = plt.figure()\n",
    "ax = fig.add_subplot()\n",
    "ax = format_axes(ax)\n",
    "ax.scatter(c0[:, 0], np.zeros(c0[:, 0].shape))\n",
    "ax.scatter(c1[:, 0], np.zeros(c1[:, 0].shape))\n",
    "ax.plot(x, p)\n",
    "ax.set_xlabel('$x$')\n",
    "ax.set_ylabel('$p$')\n",
    "ax.set_title(r'$p(x)=\\frac{e^{\\alpha x + \\beta}}{1+e^{\\alpha x + \\beta}}$')\n",
    "ax.set_xticks([])\n",
    "#ax.set_yticks([]) \n",
    "plt.savefig('images/classification_1d_logp.png', dpi=150, bbox_inches='tight')"
   ]
  },
  {
   "cell_type": "code",
   "execution_count": 8,
   "metadata": {},
   "outputs": [
    {
     "name": "stdout",
     "output_type": "stream",
     "text": [
      "WARNING: fig_height too large: 4.326237921249264 so will reduce to 3.75 inches.\n"
     ]
    },
    {
     "data": {
      "application/vnd.jupyter.widget-view+json": {
       "model_id": "adb5308b9f834683bd12aa0096cfc3a7",
       "version_major": 2,
       "version_minor": 0
      },
      "text/plain": [
       "Canvas(toolbar=Toolbar(toolitems=[('Home', 'Reset original view', 'home', 'home'), ('Back', 'Back to previous …"
      ]
     },
     "metadata": {},
     "output_type": "display_data"
    }
   ],
   "source": [
    "il = min(np.min(c0), np.min(c1))\n",
    "iu = max(np.max(c0), np.max(c1))\n",
    "x = np.linspace(il, iu, num=100)\n",
    "p = logistic(3, -6, x)\n",
    "\n",
    "latexify()\n",
    "fig = plt.figure()\n",
    "ax = fig.add_subplot()\n",
    "ax = format_axes(ax)\n",
    "ax.scatter(c0[:, 0], np.zeros(c0[:, 0].shape))\n",
    "ax.scatter(c1[:, 0], np.zeros(c1[:, 0].shape))\n",
    "line, = ax.plot(x, p)\n",
    "line.set_label(r'$\\hat{y} = p(c=blue|x)=\\frac{e^{\\alpha x + \\beta}}{1+e^{\\alpha x + \\beta}}$')\n",
    "line, = ax.plot(x, 1-p)\n",
    "line.set_label(r'$p(c=orange|x)=1-p(c=blue|x)=1-\\hat{y}$')\n",
    "ax.set_xlabel('$x$')\n",
    "ax.set_ylabel('$p$')\n",
    "#ax.set_title(r'$p(x)=\\frac{e^{\\alpha x + \\beta}}{1+e^{\\alpha x + \\beta}}$')\n",
    "ax.set_xticks([])\n",
    "#ax.set_yticks([]) \n",
    "#ax.legend()\n",
    "plt.savefig('images/classification_1d_logp_both.png', dpi=150, bbox_inches='tight')"
   ]
  },
  {
   "cell_type": "code",
   "execution_count": 9,
   "metadata": {},
   "outputs": [
    {
     "name": "stdout",
     "output_type": "stream",
     "text": [
      "WARNING: fig_height too large: 4.326237921249264 so will reduce to 3.75 inches.\n"
     ]
    },
    {
     "data": {
      "application/vnd.jupyter.widget-view+json": {
       "model_id": "6aef244085c7452f808f733d0ac7acad",
       "version_major": 2,
       "version_minor": 0
      },
      "text/plain": [
       "Canvas(toolbar=Toolbar(toolitems=[('Home', 'Reset original view', 'home', 'home'), ('Back', 'Back to previous …"
      ]
     },
     "metadata": {},
     "output_type": "display_data"
    }
   ],
   "source": [
    "latexify()\n",
    "fig = plt.figure()\n",
    "ax = fig.add_subplot()\n",
    "ax = format_axes(ax)\n",
    "ax.scatter(c0[:, 0], c0[:, 1], color='b')\n",
    "ax.scatter(c1[:, 0], c1[:, 1], color='b')\n",
    "ax.set_xlabel('$x_0$')\n",
    "ax.set_ylabel('$x_1$')\n",
    "#ax.set_title('$f(x)$')\n",
    "ax.set_xticks([])\n",
    "ax.set_yticks([]) \n",
    "plt.savefig('images/unsupervised.png', dpi=150, bbox_inches='tight')"
   ]
  },
  {
   "cell_type": "code",
   "execution_count": 21,
   "metadata": {},
   "outputs": [
    {
     "name": "stdout",
     "output_type": "stream",
     "text": [
      "WARNING: fig_height too large: 4.326237921249264 so will reduce to 3.75 inches.\n"
     ]
    },
    {
     "data": {
      "application/vnd.jupyter.widget-view+json": {
       "model_id": "6ad544f7320a4fa595f0367c776b9a9e",
       "version_major": 2,
       "version_minor": 0
      },
      "text/plain": [
       "Canvas(toolbar=Toolbar(toolitems=[('Home', 'Reset original view', 'home', 'home'), ('Back', 'Back to previous …"
      ]
     },
     "metadata": {},
     "output_type": "display_data"
    }
   ],
   "source": [
    "def sigmoid(x):\n",
    "    return 1/(1+np.exp(-x))\n",
    "\n",
    "def tanh(x):\n",
    "    return (np.exp(x)-np.exp(-x))/(np.exp(x)+np.exp(-x))\n",
    "\n",
    "x = np.linspace(-5, 5, 100)\n",
    "\n",
    "y0 = x\n",
    "dy0 = np.ones(x.shape)\n",
    "\n",
    "y1 = tanh(x)\n",
    "dy1 = 1-tanh(x)**2\n",
    "\n",
    "y2 = sigmoid(x)\n",
    "dy2 = sigmoid(x)*(1-sigmoid(x))\n",
    "\n",
    "#y3 = max(0, x)\n",
    "#dy3 = \n",
    "\n",
    "#y4 = \n",
    "                         \n",
    "latexify()\n",
    "fig = plt.figure()\n",
    "ax = fig.add_subplot()\n",
    "ax = format_axes(ax)\n",
    "ax.plot(x, y0)\n",
    "ax.plot(x, dy0)\n",
    "#ax.set_title('$f(x)$')\n",
    "ax.set_xticks([])\n",
    "ax.set_yticks([]) \n",
    "plt.savefig('images/unsupervised.png', dpi=150, bbox_inches='tight')                         "
   ]
  },
  {
   "cell_type": "code",
   "execution_count": null,
   "metadata": {},
   "outputs": [],
   "source": []
  }
 ],
 "metadata": {
  "kernelspec": {
   "display_name": "Python 3",
   "language": "python",
   "name": "python3"
  },
  "language_info": {
   "codemirror_mode": {
    "name": "ipython",
    "version": 3
   },
   "file_extension": ".py",
   "mimetype": "text/x-python",
   "name": "python",
   "nbconvert_exporter": "python",
   "pygments_lexer": "ipython3",
   "version": "3.9.4"
  }
 },
 "nbformat": 4,
 "nbformat_minor": 4
}

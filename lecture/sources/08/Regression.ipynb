{
 "cells": [
  {
   "cell_type": "code",
   "execution_count": 1,
   "metadata": {},
   "outputs": [],
   "source": [
    "%matplotlib widget\n",
    "import numpy as np\n",
    "\n",
    "import matplotlib.pyplot as plt\n",
    "from matplotlib import cm\n",
    "from matplotlib.ticker import LinearLocator\n",
    "\n",
    "from sklearn.preprocessing import PolynomialFeatures\n",
    "from sklearn.linear_model import LinearRegression\n",
    "from sklearn.pipeline import Pipeline\n",
    "\n",
    "from util import latexify, format_axes"
   ]
  },
  {
   "cell_type": "code",
   "execution_count": 2,
   "metadata": {},
   "outputs": [],
   "source": [
    "# Generate some data with a noisy linear function\n",
    "n = 20\n",
    "a, b = 1.5, 10\n",
    "sigma = 4\n",
    "f = lambda x: a*x+b\n",
    "\n",
    "X = np.linspace(1, 21, num=n)\n",
    "Xhf = np.linspace(1, 21, num=n*5)\n",
    "\n",
    "Y = f(X)\n",
    "T = f(X) + np.random.normal(0, sigma, size=n)"
   ]
  },
  {
   "cell_type": "code",
   "execution_count": 3,
   "metadata": {},
   "outputs": [
    {
     "name": "stdout",
     "output_type": "stream",
     "text": [
      "WARNING: fig_height too large: 4.326237921249264 so will reduce to 3.75 inches.\n"
     ]
    },
    {
     "data": {
      "application/vnd.jupyter.widget-view+json": {
       "model_id": "3cc929fe6f724ec98ddf4f8fce7d4f55",
       "version_major": 2,
       "version_minor": 0
      },
      "text/plain": [
       "Canvas(toolbar=Toolbar(toolitems=[('Home', 'Reset original view', 'home', 'home'), ('Back', 'Back to previous …"
      ]
     },
     "metadata": {},
     "output_type": "display_data"
    }
   ],
   "source": [
    "latexify()\n",
    "fig = plt.figure()\n",
    "ax = fig.add_subplot()\n",
    "ax = format_axes(ax)\n",
    "ax.plot(X, Y)\n",
    "ax.set_xlabel('$x$')\n",
    "ax.set_ylabel('$y$')\n",
    "ax.set_title('$f(x)$')\n",
    "ax.set_xticks([])\n",
    "ax.set_yticks([]) \n",
    "plt.savefig('images/ftrue.png', dpi=150, bbox_inches='tight')"
   ]
  },
  {
   "cell_type": "code",
   "execution_count": 4,
   "metadata": {},
   "outputs": [
    {
     "name": "stdout",
     "output_type": "stream",
     "text": [
      "WARNING: fig_height too large: 4.326237921249264 so will reduce to 3.75 inches.\n"
     ]
    },
    {
     "data": {
      "application/vnd.jupyter.widget-view+json": {
       "model_id": "a9f43e94f84f4caa8129a29057a38e91",
       "version_major": 2,
       "version_minor": 0
      },
      "text/plain": [
       "Canvas(toolbar=Toolbar(toolitems=[('Home', 'Reset original view', 'home', 'home'), ('Back', 'Back to previous …"
      ]
     },
     "metadata": {},
     "output_type": "display_data"
    }
   ],
   "source": [
    "latexify()\n",
    "fig = plt.figure()\n",
    "ax = fig.add_subplot()\n",
    "ax = format_axes(ax)\n",
    "ax.plot(X, Y)\n",
    "ax.scatter(X, T)\n",
    "ax.set_xlabel('$x$')\n",
    "ax.set_ylabel('$y$')\n",
    "ax.set_title('$f(x)+\\epsilon$')\n",
    "ax.set_xticks([])\n",
    "ax.set_yticks([]) \n",
    "plt.savefig('images/feps.png', dpi=150, bbox_inches='tight')"
   ]
  },
  {
   "cell_type": "code",
   "execution_count": 5,
   "metadata": {},
   "outputs": [
    {
     "name": "stdout",
     "output_type": "stream",
     "text": [
      "WARNING: fig_height too large: 4.326237921249264 so will reduce to 3.75 inches.\n"
     ]
    },
    {
     "data": {
      "application/vnd.jupyter.widget-view+json": {
       "model_id": "7909a56edc6a4c3f92fb2c11d59ccfe1",
       "version_major": 2,
       "version_minor": 0
      },
      "text/plain": [
       "Canvas(toolbar=Toolbar(toolitems=[('Home', 'Reset original view', 'home', 'home'), ('Back', 'Back to previous …"
      ]
     },
     "metadata": {},
     "output_type": "display_data"
    }
   ],
   "source": [
    "Xest = np.linspace(1, 21, num=100)\n",
    "Yest = [T[np.argmin(abs(X-x))] for x in Xest]\n",
    "\n",
    "latexify()\n",
    "fig = plt.figure()\n",
    "ax = fig.add_subplot()\n",
    "ax = format_axes(ax)\n",
    "ax.plot(X, Y, color='gray')\n",
    "ax.plot(Xest, Yest)\n",
    "ax.scatter(X, T)\n",
    "ax.set_xlabel('$x$')\n",
    "ax.set_ylabel('$y$')\n",
    "ax.set_title('$\\hat{f}(x)$')\n",
    "ax.set_xticks([])\n",
    "ax.set_yticks([]) \n",
    "plt.savefig('images/fnoparam.png', dpi=150, bbox_inches='tight')"
   ]
  },
  {
   "cell_type": "code",
   "execution_count": 6,
   "metadata": {},
   "outputs": [
    {
     "name": "stdout",
     "output_type": "stream",
     "text": [
      "WARNING: fig_height too large: 4.326237921249264 so will reduce to 3.75 inches.\n"
     ]
    },
    {
     "data": {
      "application/vnd.jupyter.widget-view+json": {
       "model_id": "da860b8b9c8c4697948badd60512d9c3",
       "version_major": 2,
       "version_minor": 0
      },
      "text/plain": [
       "Canvas(toolbar=Toolbar(toolitems=[('Home', 'Reset original view', 'home', 'home'), ('Back', 'Back to previous …"
      ]
     },
     "metadata": {},
     "output_type": "display_data"
    }
   ],
   "source": [
    "latexify()\n",
    "fig = plt.figure()\n",
    "ax = fig.add_subplot()\n",
    "ax = format_axes(ax)\n",
    "ax.scatter(X, T)\n",
    "ax.set_xlabel('$x$')\n",
    "ax.set_ylabel('$y$')\n",
    "ax.set_title(r'$\\hat{f}(x) = \\alpha x + \\beta $?')\n",
    "ax.set_xticks([])\n",
    "ax.set_yticks([]) \n",
    "plt.savefig('images/fparam.png', dpi=150, bbox_inches='tight')"
   ]
  },
  {
   "cell_type": "code",
   "execution_count": 7,
   "metadata": {},
   "outputs": [
    {
     "name": "stdout",
     "output_type": "stream",
     "text": [
      "1.5021687009863283 11.665032268593443\n",
      "WARNING: fig_height too large: 4.326237921249264 so will reduce to 3.75 inches.\n"
     ]
    },
    {
     "data": {
      "application/vnd.jupyter.widget-view+json": {
       "model_id": "634ce918eed34a9fa8f414253f89dc4d",
       "version_major": 2,
       "version_minor": 0
      },
      "text/plain": [
       "Canvas(toolbar=Toolbar(toolitems=[('Home', 'Reset original view', 'home', 'home'), ('Back', 'Back to previous …"
      ]
     },
     "metadata": {},
     "output_type": "display_data"
    },
    {
     "name": "stdout",
     "output_type": "stream",
     "text": [
      "WARNING: fig_height too large: 4.326237921249264 so will reduce to 3.75 inches.\n"
     ]
    },
    {
     "data": {
      "application/vnd.jupyter.widget-view+json": {
       "model_id": "fb83970a4b69460795f628bcaeb85fa1",
       "version_major": 2,
       "version_minor": 0
      },
      "text/plain": [
       "Canvas(toolbar=Toolbar(toolitems=[('Home', 'Reset original view', 'home', 'home'), ('Back', 'Back to previous …"
      ]
     },
     "metadata": {},
     "output_type": "display_data"
    }
   ],
   "source": [
    "# Linear Regression\n",
    "xm = np.mean(X)\n",
    "tm = np.mean(T)\n",
    "alpha = np.dot(X-xm, T-tm)/np.dot(X-xm, X-xm)\n",
    "beta = tm - alpha*xm\n",
    "print(alpha, beta)\n",
    "Yest = alpha*X+beta\n",
    "\n",
    "latexify()\n",
    "fig = plt.figure()\n",
    "ax = fig.add_subplot()\n",
    "ax = format_axes(ax)\n",
    "ax.scatter(X, T)\n",
    "ax.plot(X, Yest)\n",
    "#ax.plot(X, Y, color='k')\n",
    "ax.set_xlabel('$x$')\n",
    "ax.set_ylabel('$y$')\n",
    "ax.set_title(r'$\\hat{f}(x)$')\n",
    "ax.set_xticks([])\n",
    "ax.set_yticks([]) \n",
    "plt.savefig('images/linregnoticks.png', dpi=150, bbox_inches='tight')\n",
    "\n",
    "latexify()\n",
    "fig = plt.figure()\n",
    "ax = fig.add_subplot()\n",
    "ax = format_axes(ax)\n",
    "ax.scatter(X, T)\n",
    "ax.plot(X, Yest)\n",
    "ax.plot(X, Y, color='k')\n",
    "ax.set_xlabel('$x$')\n",
    "ax.set_ylabel('$y$')\n",
    "ax.set_title(r'$\\hat{f}(x)$')\n",
    "#ax.set_xticks([])\n",
    "#ax.set_yticks([]) \n",
    "plt.savefig('images/linreg.png', dpi=150, bbox_inches='tight')"
   ]
  },
  {
   "cell_type": "code",
   "execution_count": 8,
   "metadata": {},
   "outputs": [
    {
     "name": "stdout",
     "output_type": "stream",
     "text": [
      "WARNING: fig_height too large: 4.326237921249264 so will reduce to 3.75 inches.\n"
     ]
    },
    {
     "data": {
      "application/vnd.jupyter.widget-view+json": {
       "model_id": "abcf84e256c44cc481535d686e018630",
       "version_major": 2,
       "version_minor": 0
      },
      "text/plain": [
       "Canvas(toolbar=Toolbar(toolitems=[('Home', 'Reset original view', 'home', 'home'), ('Back', 'Back to previous …"
      ]
     },
     "metadata": {},
     "output_type": "display_data"
    }
   ],
   "source": [
    "arange = np.linspace(-5, 9, 50)\n",
    "Ea = [np.sum((Y-ai*X-b)**2) for ai in arange]\n",
    "\n",
    "latexify()\n",
    "fig = plt.figure()\n",
    "ax = fig.add_subplot()\n",
    "ax = format_axes(ax)\n",
    "ax.plot(arange, Ea)\n",
    "ax.set_xlabel(r'$\\alpha$')\n",
    "ax.set_ylabel('$E$')\n",
    "ax.set_title(r'$E(\\alpha)$')\n",
    "#ax.set_xticks([])\n",
    "ax.set_yticks([]) \n",
    "plt.savefig('images/erralpha.png', dpi=150, bbox_inches='tight')"
   ]
  },
  {
   "cell_type": "code",
   "execution_count": 9,
   "metadata": {},
   "outputs": [
    {
     "name": "stdout",
     "output_type": "stream",
     "text": [
      "WARNING: fig_height too large: 4.326237921249264 so will reduce to 3.75 inches.\n"
     ]
    },
    {
     "data": {
      "application/vnd.jupyter.widget-view+json": {
       "model_id": "8a805a5b130e4d8e8d74cb9c184ae36e",
       "version_major": 2,
       "version_minor": 0
      },
      "text/plain": [
       "Canvas(toolbar=Toolbar(toolitems=[('Home', 'Reset original view', 'home', 'home'), ('Back', 'Back to previous …"
      ]
     },
     "metadata": {},
     "output_type": "display_data"
    }
   ],
   "source": [
    "brange = np.linspace(0, 20, 50)\n",
    "Eb = [np.sum((Y-a*X-bi)**2) for bi in brange]\n",
    "\n",
    "latexify()\n",
    "fig = plt.figure()\n",
    "ax = fig.add_subplot()\n",
    "ax = format_axes(ax)\n",
    "ax.plot(brange, Eb)\n",
    "ax.set_xlabel(r'$\\beta$')\n",
    "ax.set_ylabel('$E$')\n",
    "ax.set_title(r'$E(\\beta)$')\n",
    "#ax.set_xticks([])\n",
    "ax.set_yticks([]) \n",
    "plt.savefig('images/errbeta.png', dpi=150, bbox_inches='tight')"
   ]
  },
  {
   "cell_type": "code",
   "execution_count": 10,
   "metadata": {},
   "outputs": [
    {
     "name": "stdout",
     "output_type": "stream",
     "text": [
      "WARNING: fig_height too large: 4.326237921249264 so will reduce to 3.75 inches.\n"
     ]
    },
    {
     "data": {
      "application/vnd.jupyter.widget-view+json": {
       "model_id": "260b3f374b2c4ce384f9d332c64ffe05",
       "version_major": 2,
       "version_minor": 0
      },
      "text/plain": [
       "Canvas(toolbar=Toolbar(toolitems=[('Home', 'Reset original view', 'home', 'home'), ('Back', 'Back to previous …"
      ]
     },
     "metadata": {},
     "output_type": "display_data"
    }
   ],
   "source": [
    "latexify()\n",
    "fig, ax = plt.subplots(subplot_kw={\"projection\": \"3d\"})\n",
    "\n",
    "# Make data.\n",
    "am = np.arange(0, 4, 0.25)\n",
    "bm = np.arange(0, 20, 0.25)\n",
    "am, bm = np.meshgrid(am, bm)\n",
    "\n",
    "Eab = sum([(y-am*x-bm)**2 for x,y in zip(X, Y)])\n",
    "surf = ax.plot_surface(am, bm, Eab, cmap=cm.coolwarm, linewidth=0, antialiased=False)\n",
    "ax.zaxis.set_major_locator(LinearLocator(10))\n",
    "ax.set_xlabel(r'$\\alpha$')\n",
    "ax.set_ylabel(r'$\\beta$')\n",
    "ax.set_zlabel('$E$')\n",
    "ax.set_title(r'$E(\\alpha, \\beta)$')\n",
    "ax.set_zticks([]) \n",
    "plt.savefig('images/err2d.png', dpi=150, bbox_inches='tight')"
   ]
  },
  {
   "cell_type": "code",
   "execution_count": 11,
   "metadata": {},
   "outputs": [
    {
     "name": "stdout",
     "output_type": "stream",
     "text": [
      "WARNING: fig_height too large: 4.326237921249264 so will reduce to 3.75 inches.\n"
     ]
    },
    {
     "data": {
      "application/vnd.jupyter.widget-view+json": {
       "model_id": "0cdc4553a6334e22b82d600188e5e11e",
       "version_major": 2,
       "version_minor": 0
      },
      "text/plain": [
       "Canvas(toolbar=Toolbar(toolitems=[('Home', 'Reset original view', 'home', 'home'), ('Back', 'Back to previous …"
      ]
     },
     "metadata": {},
     "output_type": "display_data"
    }
   ],
   "source": [
    "crange = np.linspace(0, 5.5, 1000)\n",
    "Ec = [(ci-3)**4+(ci-3)**3-4*(ci-3)**2-4*(ci-3) for ci in crange]\n",
    "\n",
    "latexify()\n",
    "fig = plt.figure()\n",
    "ax = fig.add_subplot()\n",
    "ax = format_axes(ax)\n",
    "ax.plot(crange, Ec)\n",
    "ax.set_xlabel(r'$\\gamma$')\n",
    "ax.set_ylabel('$E$')\n",
    "ax.set_title(r'$E(\\gamma)$')\n",
    "ax.set_xticks([])\n",
    "ax.set_yticks([]) \n",
    "plt.savefig('images/nonconvex.png', dpi=150, bbox_inches='tight')"
   ]
  },
  {
   "cell_type": "code",
   "execution_count": 12,
   "metadata": {},
   "outputs": [
    {
     "name": "stdout",
     "output_type": "stream",
     "text": [
      "WARNING: fig_height too large: 4.326237921249264 so will reduce to 3.75 inches.\n"
     ]
    },
    {
     "data": {
      "application/vnd.jupyter.widget-view+json": {
       "model_id": "8f41f0cb56b0429a9bc941bd5c04fe80",
       "version_major": 2,
       "version_minor": 0
      },
      "text/plain": [
       "Canvas(toolbar=Toolbar(toolitems=[('Home', 'Reset original view', 'home', 'home'), ('Back', 'Back to previous …"
      ]
     },
     "metadata": {},
     "output_type": "display_data"
    }
   ],
   "source": [
    "latexify()\n",
    "fig = plt.figure()\n",
    "ax = fig.add_subplot()\n",
    "ax = format_axes(ax)\n",
    "ax.scatter(X, T)\n",
    "ax.set_xlabel('$x$')\n",
    "ax.set_ylabel('$y$')\n",
    "ax.set_title(r'$\\hat{f}(x) = \\beta_2 x^2 + \\beta_1 x^1 + \\beta_0 $?')\n",
    "ax.set_xticks([])\n",
    "ax.set_yticks([]) \n",
    "plt.savefig('images/fnonlin.png', dpi=150, bbox_inches='tight')"
   ]
  },
  {
   "cell_type": "code",
   "execution_count": 13,
   "metadata": {},
   "outputs": [
    {
     "name": "stdout",
     "output_type": "stream",
     "text": [
      "WARNING: fig_height too large: 4.326237921249264 so will reduce to 3.75 inches.\n"
     ]
    },
    {
     "data": {
      "application/vnd.jupyter.widget-view+json": {
       "model_id": "7270c63b78ac40c7b3b278474c4534c3",
       "version_major": 2,
       "version_minor": 0
      },
      "text/plain": [
       "Canvas(toolbar=Toolbar(toolitems=[('Home', 'Reset original view', 'home', 'home'), ('Back', 'Back to previous …"
      ]
     },
     "metadata": {},
     "output_type": "display_data"
    },
    {
     "data": {
      "application/vnd.jupyter.widget-view+json": {
       "model_id": "538a4828730342e28ddf101c4b2612a0",
       "version_major": 2,
       "version_minor": 0
      },
      "text/plain": [
       "Canvas(toolbar=Toolbar(toolitems=[('Home', 'Reset original view', 'home', 'home'), ('Back', 'Back to previous …"
      ]
     },
     "metadata": {},
     "output_type": "display_data"
    },
    {
     "data": {
      "application/vnd.jupyter.widget-view+json": {
       "model_id": "e509fc374c784aaabc888bbff279b54f",
       "version_major": 2,
       "version_minor": 0
      },
      "text/plain": [
       "Canvas(toolbar=Toolbar(toolitems=[('Home', 'Reset original view', 'home', 'home'), ('Back', 'Back to previous …"
      ]
     },
     "metadata": {},
     "output_type": "display_data"
    }
   ],
   "source": [
    "from matplotlib import cm\n",
    "from matplotlib.ticker import LinearLocator\n",
    "x0 = X\n",
    "x1 = X**2\n",
    "\n",
    "latexify()\n",
    "fig, ax = plt.subplots(subplot_kw={\"projection\": \"3d\"})\n",
    "ax.scatter(x0, x1, T)\n",
    "ax.zaxis.set_major_locator(LinearLocator(10))\n",
    "ax.view_init(elev=40, azim=-150)\n",
    "ax.set_xlabel(r'$x$')\n",
    "ax.set_ylabel(r'$x^2$')\n",
    "ax.set_zlabel('$Y$')\n",
    "ax.set_title(r'$Y(x, x^2)$')\n",
    "ax.set_xticks([]) \n",
    "ax.set_yticks([]) \n",
    "ax.set_zticks([]) \n",
    "plt.savefig('images/fnonlin2da.png', dpi=150, bbox_inches='tight')\n",
    "\n",
    "fig, ax = plt.subplots(subplot_kw={\"projection\": \"3d\"})\n",
    "ax.scatter(x0, x1, T)\n",
    "ax.zaxis.set_major_locator(LinearLocator(10))\n",
    "ax.view_init(elev=0, azim=0)\n",
    "ax.set_xlabel(r'$x$')\n",
    "ax.set_ylabel(r'$x^2$')\n",
    "ax.set_zlabel('$Y$')\n",
    "#ax.set_title(r'$Y(x, x^2)$')\n",
    "ax.set_xticks([]) \n",
    "ax.set_yticks([]) \n",
    "ax.set_zticks([]) \n",
    "plt.savefig('images/fnonlin2db.png', dpi=150, bbox_inches='tight')\n",
    "\n",
    "fig, ax = plt.subplots(subplot_kw={\"projection\": \"3d\"})\n",
    "ax.scatter(x0, x1, T)\n",
    "ax.zaxis.set_major_locator(LinearLocator(10))\n",
    "ax.view_init(elev=0, azim=-90)\n",
    "ax.set_xlabel(r'$x$')\n",
    "ax.set_ylabel(r'$x^2$')\n",
    "ax.set_zlabel('$Y$')\n",
    "#ax.set_title(r'$Y(x, x^2)$')\n",
    "ax.set_xticks([]) \n",
    "ax.set_yticks([]) \n",
    "ax.set_zticks([]) \n",
    "plt.savefig('images/fnonlin2dc.png', dpi=150, bbox_inches='tight')"
   ]
  },
  {
   "cell_type": "code",
   "execution_count": 14,
   "metadata": {},
   "outputs": [
    {
     "name": "stdout",
     "output_type": "stream",
     "text": [
      "WARNING: fig_height too large: 4.326237921249264 so will reduce to 3.75 inches.\n"
     ]
    },
    {
     "data": {
      "application/vnd.jupyter.widget-view+json": {
       "model_id": "26ba003e4e7b46ffbd23bd348afcbcbe",
       "version_major": 2,
       "version_minor": 0
      },
      "text/plain": [
       "Canvas(toolbar=Toolbar(toolitems=[('Home', 'Reset original view', 'home', 'home'), ('Back', 'Back to previous …"
      ]
     },
     "metadata": {},
     "output_type": "display_data"
    },
    {
     "data": {
      "application/vnd.jupyter.widget-view+json": {
       "model_id": "bf68e53c01694b8aaf58b66cd13a2775",
       "version_major": 2,
       "version_minor": 0
      },
      "text/plain": [
       "Canvas(toolbar=Toolbar(toolitems=[('Home', 'Reset original view', 'home', 'home'), ('Back', 'Back to previous …"
      ]
     },
     "metadata": {},
     "output_type": "display_data"
    },
    {
     "data": {
      "application/vnd.jupyter.widget-view+json": {
       "model_id": "1435e04f91c942459090323c92e8c130",
       "version_major": 2,
       "version_minor": 0
      },
      "text/plain": [
       "Canvas(toolbar=Toolbar(toolitems=[('Home', 'Reset original view', 'home', 'home'), ('Back', 'Back to previous …"
      ]
     },
     "metadata": {},
     "output_type": "display_data"
    }
   ],
   "source": [
    "# Polynomial example\n",
    "x0 = X\n",
    "x1 = X**2\n",
    "Tsquare = X**2 + np.random.normal(0, sigma*2, size=n)\n",
    "Ysquare = Xhf**2\n",
    "\n",
    "latexify()\n",
    "fig, ax = plt.subplots(subplot_kw={\"projection\": \"3d\"})\n",
    "ax.scatter(x0, x1, Tsquare)\n",
    "ax.zaxis.set_major_locator(LinearLocator(10))\n",
    "ax.view_init(elev=40, azim=-150)\n",
    "ax.set_xlabel(r'$x$')\n",
    "ax.set_ylabel(r'$x^2$')\n",
    "ax.set_zlabel('$Y_s$')\n",
    "ax.set_title(r'$Y_s(x, x^2)$')\n",
    "ax.set_xticks([]) \n",
    "ax.set_yticks([]) \n",
    "ax.set_zticks([]) \n",
    "plt.savefig('images/fsquarenonlin2da.png', dpi=150, bbox_inches='tight')\n",
    "\n",
    "fig, ax = plt.subplots(subplot_kw={\"projection\": \"3d\"})\n",
    "ax.scatter(x0, x1, Tsquare)\n",
    "ax.zaxis.set_major_locator(LinearLocator(10))\n",
    "ax.view_init(elev=0, azim=0)\n",
    "ax.set_xlabel(r'$x$')\n",
    "ax.set_ylabel(r'$x^2$')\n",
    "ax.set_zlabel('$Y_s$')\n",
    "#ax.set_title(r'$Y_s(x, x^2)$')\n",
    "ax.set_xticks([]) \n",
    "ax.set_yticks([]) \n",
    "ax.set_zticks([]) \n",
    "plt.savefig('images/fsquarenonlin2db.png', dpi=150, bbox_inches='tight')\n",
    "\n",
    "fig, ax = plt.subplots(subplot_kw={\"projection\": \"3d\"})\n",
    "ax.scatter(x0, x1, Tsquare)\n",
    "ax.zaxis.set_major_locator(LinearLocator(10))\n",
    "ax.view_init(elev=0, azim=-90)\n",
    "ax.set_xlabel(r'$x$')\n",
    "ax.set_ylabel(r'$x^2$')\n",
    "ax.set_zlabel('$Y_s$')\n",
    "#ax.set_title(r'$Y_s(x, x^2)$')\n",
    "ax.set_xticks([]) \n",
    "ax.set_yticks([]) \n",
    "ax.set_zticks([]) \n",
    "plt.savefig('images/fsquarenonlin2dc.png', dpi=150, bbox_inches='tight')"
   ]
  },
  {
   "cell_type": "code",
   "execution_count": 15,
   "metadata": {},
   "outputs": [
    {
     "name": "stdout",
     "output_type": "stream",
     "text": [
      "WARNING: fig_height too large: 4.326237921249264 so will reduce to 3.75 inches.\n"
     ]
    },
    {
     "data": {
      "application/vnd.jupyter.widget-view+json": {
       "model_id": "f231324cfd8e436eb542295d253173cc",
       "version_major": 2,
       "version_minor": 0
      },
      "text/plain": [
       "Canvas(toolbar=Toolbar(toolitems=[('Home', 'Reset original view', 'home', 'home'), ('Back', 'Back to previous …"
      ]
     },
     "metadata": {},
     "output_type": "display_data"
    }
   ],
   "source": [
    "\n",
    "\n",
    "model = Pipeline([\n",
    "    ('poly', PolynomialFeatures(degree=17)),  \n",
    "    ('linear', LinearRegression(fit_intercept=True, normalize=True))\n",
    "])\n",
    "\n",
    "model = model.fit(X[:, np.newaxis], T)\n",
    "model.named_steps['linear'].coef_\n",
    "\n",
    "Xhf = np.linspace(0, 20, num=100)\n",
    "Yestsq = model.predict(Xhf[:, np.newaxis])\n",
    "\n",
    "latexify()\n",
    "fig = plt.figure()\n",
    "ax = fig.add_subplot()\n",
    "ax = format_axes(ax)\n",
    "ax.scatter(X, T)\n",
    "ax.plot(Xhf, Yestsq)\n",
    "#ax.plot(X, Y, color='k')\n",
    "ax.set_xlabel('$x$')\n",
    "ax.set_ylabel('$y$')\n",
    "ax.set_title(r'$\\hat{f}(x)$')\n",
    "ax.set_xticks([])\n",
    "ax.set_yticks([]) \n",
    "ax.set_ylim(0, 50)\n",
    "plt.savefig('images/fnonlinfit13.png', dpi=150, bbox_inches='tight')"
   ]
  },
  {
   "cell_type": "code",
   "execution_count": 16,
   "metadata": {},
   "outputs": [
    {
     "name": "stdout",
     "output_type": "stream",
     "text": [
      "WARNING: fig_height too large: 4.326237921249264 so will reduce to 3.75 inches.\n"
     ]
    },
    {
     "data": {
      "application/vnd.jupyter.widget-view+json": {
       "model_id": "8ffd386945004ee1825809b302dece78",
       "version_major": 2,
       "version_minor": 0
      },
      "text/plain": [
       "Canvas(toolbar=Toolbar(toolitems=[('Home', 'Reset original view', 'home', 'home'), ('Back', 'Back to previous …"
      ]
     },
     "metadata": {},
     "output_type": "display_data"
    },
    {
     "name": "stdout",
     "output_type": "stream",
     "text": [
      "WARNING: fig_height too large: 4.326237921249264 so will reduce to 3.75 inches.\n"
     ]
    },
    {
     "data": {
      "application/vnd.jupyter.widget-view+json": {
       "model_id": "b80604d795b1468db59c0b35cfec03ee",
       "version_major": 2,
       "version_minor": 0
      },
      "text/plain": [
       "Canvas(toolbar=Toolbar(toolitems=[('Home', 'Reset original view', 'home', 'home'), ('Back', 'Back to previous …"
      ]
     },
     "metadata": {},
     "output_type": "display_data"
    }
   ],
   "source": [
    "# Linear Regression for polynomial\n",
    "Tsquare = 4*(X-10)**2 + np.random.normal(0, sigma*4, size=n)\n",
    "Ysquare = 4*(Xhf-10)**2\n",
    "\n",
    "# Fit 2nd degree\n",
    "model = Pipeline([\n",
    "    ('poly', PolynomialFeatures(degree=2)),  \n",
    "    ('linear', LinearRegression(fit_intercept=True))\n",
    "])\n",
    "\n",
    "model = model.fit(X[:, np.newaxis], Tsquare)\n",
    "model.named_steps['linear'].coef_\n",
    "Yestsqsq = model.predict(Xhf[:, np.newaxis])\n",
    "\n",
    "# Fit linear\n",
    "tmlnsq = np.mean(Tsquare)\n",
    "alphalnsq = np.dot(X-xm, Tsquare-tmlnsq)/np.dot(X-xm, X-xm)\n",
    "betalnsq = tmlnsq - alphalnsq*xm\n",
    "Yestlnsq = alphalnsq*Xhf+betalnsq\n",
    "\n",
    "# Plot\n",
    "latexify()\n",
    "fig = plt.figure()\n",
    "ax = fig.add_subplot()\n",
    "ax = format_axes(ax)\n",
    "ax.scatter(X, Tsquare)\n",
    "ax.plot(Xhf, Yestsqsq)\n",
    "#ax.plot(Xhf, Ysquare, color='k')\n",
    "ax.set_xlabel('$x$')\n",
    "ax.set_ylabel('$y$')\n",
    "ax.set_title(r'$\\hat{f}(x)$')\n",
    "ax.set_xticks([])\n",
    "ax.set_yticks([]) \n",
    "plt.savefig('images/fsqsq.png', dpi=150, bbox_inches='tight')\n",
    "\n",
    "latexify()\n",
    "fig = plt.figure()\n",
    "ax = fig.add_subplot()\n",
    "ax = format_axes(ax)\n",
    "ax.scatter(X, Tsquare)\n",
    "ax.plot(Xhf, Yestlnsq)\n",
    "#ax.plot(Xhf, Ysquare, color='k')\n",
    "ax.set_xlabel('$x$')\n",
    "ax.set_ylabel('$y$')\n",
    "ax.set_title(r'$\\hat{f}(x)$')\n",
    "ax.set_xticks([])\n",
    "ax.set_yticks([]) \n",
    "plt.savefig('images/flnsq.png', dpi=150, bbox_inches='tight')"
   ]
  },
  {
   "cell_type": "code",
   "execution_count": 17,
   "metadata": {},
   "outputs": [
    {
     "name": "stdout",
     "output_type": "stream",
     "text": [
      "WARNING: fig_height too large: 4.326237921249264 so will reduce to 3.75 inches.\n"
     ]
    },
    {
     "name": "stderr",
     "output_type": "stream",
     "text": [
      "<ipython-input-17-b39a0202f5bd>:23: RuntimeWarning: More than 20 figures have been opened. Figures created through the pyplot interface (`matplotlib.pyplot.figure`) are retained until explicitly closed and may consume too much memory. (To control this warning, see the rcParam `figure.max_open_warning`).\n",
      "  fig = plt.figure()\n"
     ]
    },
    {
     "data": {
      "application/vnd.jupyter.widget-view+json": {
       "model_id": "4d7faa41a3564766b81d1f03f668875f",
       "version_major": 2,
       "version_minor": 0
      },
      "text/plain": [
       "Canvas(toolbar=Toolbar(toolitems=[('Home', 'Reset original view', 'home', 'home'), ('Back', 'Back to previous …"
      ]
     },
     "metadata": {},
     "output_type": "display_data"
    },
    {
     "name": "stdout",
     "output_type": "stream",
     "text": [
      "WARNING: fig_height too large: 4.326237921249264 so will reduce to 3.75 inches.\n"
     ]
    },
    {
     "data": {
      "application/vnd.jupyter.widget-view+json": {
       "model_id": "25146b4f282e4f8caf0d6257fb727913",
       "version_major": 2,
       "version_minor": 0
      },
      "text/plain": [
       "Canvas(toolbar=Toolbar(toolitems=[('Home', 'Reset original view', 'home', 'home'), ('Back', 'Back to previous …"
      ]
     },
     "metadata": {},
     "output_type": "display_data"
    },
    {
     "name": "stdout",
     "output_type": "stream",
     "text": [
      "WARNING: fig_height too large: 4.326237921249264 so will reduce to 3.75 inches.\n"
     ]
    },
    {
     "data": {
      "application/vnd.jupyter.widget-view+json": {
       "model_id": "8fe12e3156a04a74be0990cd70030266",
       "version_major": 2,
       "version_minor": 0
      },
      "text/plain": [
       "Canvas(toolbar=Toolbar(toolitems=[('Home', 'Reset original view', 'home', 'home'), ('Back', 'Back to previous …"
      ]
     },
     "metadata": {},
     "output_type": "display_data"
    },
    {
     "name": "stdout",
     "output_type": "stream",
     "text": [
      "WARNING: fig_height too large: 4.326237921249264 so will reduce to 3.75 inches.\n"
     ]
    },
    {
     "data": {
      "application/vnd.jupyter.widget-view+json": {
       "model_id": "195e6cb373c247ff82ccae69a6f0c480",
       "version_major": 2,
       "version_minor": 0
      },
      "text/plain": [
       "Canvas(toolbar=Toolbar(toolitems=[('Home', 'Reset original view', 'home', 'home'), ('Back', 'Back to previous …"
      ]
     },
     "metadata": {},
     "output_type": "display_data"
    },
    {
     "name": "stdout",
     "output_type": "stream",
     "text": [
      "WARNING: fig_height too large: 4.326237921249264 so will reduce to 3.75 inches.\n"
     ]
    },
    {
     "data": {
      "application/vnd.jupyter.widget-view+json": {
       "model_id": "a7e734819ab14d7b82e10a399f56da2d",
       "version_major": 2,
       "version_minor": 0
      },
      "text/plain": [
       "Canvas(toolbar=Toolbar(toolitems=[('Home', 'Reset original view', 'home', 'home'), ('Back', 'Back to previous …"
      ]
     },
     "metadata": {},
     "output_type": "display_data"
    }
   ],
   "source": [
    "# Generate different data with a noisy linear function\n",
    "\n",
    "model = Pipeline([\n",
    "    ('poly', PolynomialFeatures(degree=17)),  \n",
    "    ('linear', LinearRegression(fit_intercept=True, normalize=True))\n",
    "])\n",
    "\n",
    "Ysq = []\n",
    "Yln = []\n",
    "for i in range(3):\n",
    "    Ti = f(X) + np.random.normal(0, sigma, size=n)\n",
    "    model = model.fit(X[:, np.newaxis], Ti)\n",
    "    Yestsqi = model.predict(Xhf[:, np.newaxis])\n",
    "    Ysq.append(Yestsqi)\n",
    "    \n",
    "    tmi = np.mean(Ti)\n",
    "    alphai = np.dot(X-xm, Ti-tmi)/np.dot(X-xm, X-xm)\n",
    "    betai = tmi - alphai*xm\n",
    "    Yestlni = alphai*Xhf+betai\n",
    "    Yln.append(Yestlni)\n",
    "\n",
    "    latexify()\n",
    "    fig = plt.figure()\n",
    "    ax = fig.add_subplot()\n",
    "    ax = format_axes(ax)\n",
    "    ax.scatter(X, Ti, color='k')\n",
    "    ax.plot(Xhf, Yestsqi)\n",
    "    ax.plot(Xhf, Yestlni)\n",
    "    #ax.plot(X, Y, color='k')\n",
    "    ax.set_xlabel('$x$')\n",
    "    ax.set_ylabel('$y$')\n",
    "    ax.set_title(r'$\\hat{{f}}_{{{index}}}(x)$'.format(index=str(i)))\n",
    "    ax.set_xticks([])\n",
    "    ax.set_yticks([]) \n",
    "    ax.set_ylim(0, 50)\n",
    "    plt.savefig('images/variance{}.png'.format(str(i)), dpi=150, bbox_inches='tight')\n",
    "    \n",
    "latexify()\n",
    "fig = plt.figure()\n",
    "ax = fig.add_subplot()\n",
    "ax = format_axes(ax)\n",
    "for Yi in Ysq:\n",
    "    ax.plot(Xhf, Yi)\n",
    "ax.set_xlabel('$x$')\n",
    "ax.set_ylabel('$y$')\n",
    "ax.set_title(r'$\\hat{{f}}(x)$')\n",
    "ax.set_xticks([])\n",
    "ax.set_yticks([]) \n",
    "ax.set_ylim(0, 50)\n",
    "plt.savefig('images/varianceallsq.png', dpi=150, bbox_inches='tight')\n",
    "\n",
    "\n",
    "latexify()\n",
    "fig = plt.figure()\n",
    "ax = fig.add_subplot()\n",
    "ax = format_axes(ax)\n",
    "for Yi in Yln:\n",
    "    ax.plot(Xhf, Yi)\n",
    "ax.set_xlabel('$x$')\n",
    "ax.set_ylabel('$y$')\n",
    "ax.set_title(r'$\\hat{{f}}(x)$')\n",
    "ax.set_xticks([])\n",
    "ax.set_yticks([]) \n",
    "ax.set_ylim(0, 50)\n",
    "plt.savefig('images/varianceallln.png', dpi=150, bbox_inches='tight')"
   ]
  },
  {
   "cell_type": "code",
   "execution_count": 18,
   "metadata": {},
   "outputs": [
    {
     "name": "stdout",
     "output_type": "stream",
     "text": [
      "WARNING: fig_height too large: 4.326237921249264 so will reduce to 3.75 inches.\n"
     ]
    },
    {
     "name": "stderr",
     "output_type": "stream",
     "text": [
      "<ipython-input-18-24dea7641a4b>:1: RuntimeWarning: divide by zero encountered in true_divide\n",
      "  Yb = 10/Xhf\n"
     ]
    },
    {
     "data": {
      "application/vnd.jupyter.widget-view+json": {
       "model_id": "59db5aab6b80453e9a5f4721420d14a2",
       "version_major": 2,
       "version_minor": 0
      },
      "text/plain": [
       "Canvas(toolbar=Toolbar(toolitems=[('Home', 'Reset original view', 'home', 'home'), ('Back', 'Back to previous …"
      ]
     },
     "metadata": {},
     "output_type": "display_data"
    }
   ],
   "source": [
    "Yb = 10/Xhf\n",
    "Yv = -10/(Xhf-5)\n",
    "\n",
    "latexify()\n",
    "fig = plt.figure()\n",
    "ax = fig.add_subplot()\n",
    "ax = format_axes(ax)\n",
    "line, = ax.plot(Xhf, Yb)\n",
    "line.set_label('bias')\n",
    "line, = ax.plot(Xhf, Yv)\n",
    "line.set_label('variance')\n",
    "ax.set_xlabel('model complexity')\n",
    "#ax.set_ylabel('$y$')\n",
    "#ax.set_title(r'$\\hat{{f}}(x)$')\n",
    "ax.set_xticks([])\n",
    "ax.set_yticks([]) \n",
    "ax.set_ylim(0, 20)\n",
    "ax.set_xlim(0, 4.8)\n",
    "ax.legend()\n",
    "plt.savefig('images/biasvariance.png', dpi=150, bbox_inches='tight')"
   ]
  },
  {
   "cell_type": "code",
   "execution_count": 19,
   "metadata": {},
   "outputs": [
    {
     "name": "stdout",
     "output_type": "stream",
     "text": [
      "WARNING: fig_height too large: 4.326237921249264 so will reduce to 3.75 inches.\n"
     ]
    },
    {
     "data": {
      "application/vnd.jupyter.widget-view+json": {
       "model_id": "6926b3a0eec043c082c7145340452583",
       "version_major": 2,
       "version_minor": 0
      },
      "text/plain": [
       "Canvas(toolbar=Toolbar(toolitems=[('Home', 'Reset original view', 'home', 'home'), ('Back', 'Back to previous …"
      ]
     },
     "metadata": {},
     "output_type": "display_data"
    },
    {
     "name": "stdout",
     "output_type": "stream",
     "text": [
      "WARNING: fig_height too large: 4.326237921249264 so will reduce to 3.75 inches.\n"
     ]
    },
    {
     "data": {
      "application/vnd.jupyter.widget-view+json": {
       "model_id": "c8555e4ecb184334bdde08585c493d5e",
       "version_major": 2,
       "version_minor": 0
      },
      "text/plain": [
       "Canvas(toolbar=Toolbar(toolitems=[('Home', 'Reset original view', 'home', 'home'), ('Back', 'Back to previous …"
      ]
     },
     "metadata": {},
     "output_type": "display_data"
    }
   ],
   "source": [
    "n = 20\n",
    "Xval = np.random.rand(n)*20\n",
    "Tval = f(Xval) + np.random.normal(0, sigma, size=n)\n",
    "\n",
    "latexify()\n",
    "fig = plt.figure()\n",
    "ax = fig.add_subplot()\n",
    "ax = format_axes(ax)\n",
    "ax.scatter(X, T)\n",
    "ax.scatter(Xval, Tval)\n",
    "ax.plot(X, Yest)\n",
    "#ax.plot(X, Y, color='k')\n",
    "ax.set_xlabel('$x$')\n",
    "ax.set_ylabel('$y$')\n",
    "ax.set_title(r'$\\hat{f}(x)$')\n",
    "ax.set_xticks([])\n",
    "ax.set_yticks([]) \n",
    "plt.savefig('images/linval.png', dpi=150, bbox_inches='tight')\n",
    "\n",
    "latexify()\n",
    "fig = plt.figure()\n",
    "ax = fig.add_subplot()\n",
    "ax = format_axes(ax)\n",
    "ax.scatter(X, T)\n",
    "ax.scatter(Xval, Tval)\n",
    "ax.plot(Xhf, Yestsq)\n",
    "#ax.plot(X, Y, color='k')\n",
    "ax.set_xlabel('$x$')\n",
    "ax.set_ylabel('$y$')\n",
    "ax.set_title(r'$\\hat{f}(x)$')\n",
    "ax.set_xticks([])\n",
    "ax.set_yticks([]) \n",
    "ax.set_ylim(0, 50)\n",
    "plt.savefig('images/nonlinval.png', dpi=150, bbox_inches='tight')"
   ]
  },
  {
   "cell_type": "code",
   "execution_count": 20,
   "metadata": {},
   "outputs": [
    {
     "name": "stdout",
     "output_type": "stream",
     "text": [
      "WARNING: fig_height too large: 4.326237921249264 so will reduce to 3.75 inches.\n"
     ]
    },
    {
     "data": {
      "application/vnd.jupyter.widget-view+json": {
       "model_id": "cf9dea6c26ef4cebb8f0685566cba10e",
       "version_major": 2,
       "version_minor": 0
      },
      "text/plain": [
       "Canvas(toolbar=Toolbar(toolitems=[('Home', 'Reset original view', 'home', 'home'), ('Back', 'Back to previous …"
      ]
     },
     "metadata": {},
     "output_type": "display_data"
    }
   ],
   "source": [
    "n=20\n",
    "X = np.random.rand(n)*10\n",
    "T = f(X) + np.random.normal(0, sigma, size=n)\n",
    "n=10000\n",
    "Xval = np.random.rand(n)*10\n",
    "Tval = f(Xval) + np.random.normal(0, sigma, size=n)\n",
    "\n",
    "Et = []\n",
    "Ev = []\n",
    "\n",
    "indices = range(0, 15)\n",
    "\n",
    "for i in indices:\n",
    "    \n",
    "    model = Pipeline([\n",
    "        ('poly', PolynomialFeatures(degree=i)),  \n",
    "        ('linear', LinearRegression(fit_intercept=True, normalize=True))\n",
    "    ])\n",
    "     \n",
    "    model = model.fit(X[:, np.newaxis], T)\n",
    "    Yi = model.predict(X[:, np.newaxis])\n",
    "    Et.append(np.mean((Yi-T)**2))\n",
    "    Yi = model.predict(Xval[:, np.newaxis])\n",
    "    Ev.append(np.mean((Yi-Tval)**2))\n",
    "    \n",
    "latexify()\n",
    "fig = plt.figure()\n",
    "ax = fig.add_subplot()\n",
    "ax = format_axes(ax)\n",
    "line, = ax.plot(indices, Et, color='b')\n",
    "line.set_label('training error')\n",
    "line, = ax.plot(indices, Ev, color='orange')\n",
    "line.set_label('validation error')\n",
    "ax.legend()\n",
    "ax.set_xlabel('degree of freedom')\n",
    "ax.set_ylabel('$E$')\n",
    "#ax.set_title(r'$\\hat{f}(x)$')\n",
    "ax.set_xticks(indices)\n",
    "ax.set_yticks([]) \n",
    "ax.set_ylim(0, 50)\n",
    "plt.savefig('images/trainvallin.png', dpi=150, bbox_inches='tight')"
   ]
  },
  {
   "cell_type": "code",
   "execution_count": 21,
   "metadata": {},
   "outputs": [
    {
     "name": "stdout",
     "output_type": "stream",
     "text": [
      "[90.22398277697792, 13.363871686778058, 12.709389698269806, 12.193152321589896, 9.905172932924037, 9.50838686055925, 9.14439158223857, 6.861007601370337, 6.6613805452249135, 6.581712569462882, 6.180367780422862, 6.167030184381917, 6.164719692696903, 3.9375720459837296]\n",
      "[1, 2, 3, 4, 5, 6, 7, 8, 9, 10, 11, 12, 13, 14]\n",
      "WARNING: fig_height too large: 4.326237921249264 so will reduce to 3.75 inches.\n"
     ]
    },
    {
     "data": {
      "application/vnd.jupyter.widget-view+json": {
       "model_id": "5763a6123e7f40908dfdf3a44a1d2f5e",
       "version_major": 2,
       "version_minor": 0
      },
      "text/plain": [
       "Canvas(toolbar=Toolbar(toolitems=[('Home', 'Reset original view', 'home', 'home'), ('Back', 'Back to previous …"
      ]
     },
     "metadata": {},
     "output_type": "display_data"
    }
   ],
   "source": [
    "n=20\n",
    "X = np.random.rand(n)*6\n",
    "Thigh = 0.4*(X+0)**3 + np.random.normal(0, sigma, size=n)\n",
    "n=10000\n",
    "Xval = np.random.rand(n)*6\n",
    "Thighval = 0.4*(Xval+0)**3 + np.random.normal(0, sigma, size=n)\n",
    "\n",
    "Et = []\n",
    "Ev = []\n",
    "indices = list(range(1, 15))\n",
    "for i in indices:\n",
    "    \n",
    "    model = Pipeline([\n",
    "        ('poly', PolynomialFeatures(degree=i)),  \n",
    "        ('linear', LinearRegression(fit_intercept=True, normalize=True))\n",
    "    ])\n",
    "     \n",
    "    model = model.fit(X[:, np.newaxis], Thigh)\n",
    "    Yi = model.predict(X[:, np.newaxis])\n",
    "    Et.append(np.mean((Yi-Thigh)**2))\n",
    "    Yival = model.predict(Xval[:, np.newaxis])\n",
    "    Ev.append(np.mean((Yival-Thighval)**2))\n",
    "    \n",
    "print(Et)\n",
    "print(list(indices))\n",
    "\n",
    "latexify()\n",
    "fig = plt.figure()\n",
    "ax = fig.add_subplot()\n",
    "ax = format_axes(ax)\n",
    "line, = ax.plot(indices, Et, color='b')\n",
    "line.set_label('training error')\n",
    "line, = ax.plot(indices, Ev, color='orange')\n",
    "line.set_label('validation error')\n",
    "ax.set_xlabel('degree of freedom')\n",
    "ax.set_ylabel('$E$')\n",
    "#ax.set_title(r'$\\hat{f}(x)$')\n",
    "ax.set_xticks(indices)\n",
    "ax.set_yticks([]) \n",
    "ax.legend()\n",
    "ax.set_ylim(0, 50)\n",
    "plt.savefig('images/trainvalpol.png', dpi=150, bbox_inches='tight')"
   ]
  },
  {
   "cell_type": "code",
   "execution_count": null,
   "metadata": {},
   "outputs": [],
   "source": []
  },
  {
   "cell_type": "code",
   "execution_count": null,
   "metadata": {},
   "outputs": [],
   "source": []
  },
  {
   "cell_type": "code",
   "execution_count": null,
   "metadata": {},
   "outputs": [],
   "source": []
  },
  {
   "cell_type": "code",
   "execution_count": null,
   "metadata": {},
   "outputs": [],
   "source": []
  }
 ],
 "metadata": {
  "kernelspec": {
   "display_name": "Python 3",
   "language": "python",
   "name": "python3"
  },
  "language_info": {
   "codemirror_mode": {
    "name": "ipython",
    "version": 3
   },
   "file_extension": ".py",
   "mimetype": "text/x-python",
   "name": "python",
   "nbconvert_exporter": "python",
   "pygments_lexer": "ipython3",
   "version": "3.9.5"
  }
 },
 "nbformat": 4,
 "nbformat_minor": 4
}

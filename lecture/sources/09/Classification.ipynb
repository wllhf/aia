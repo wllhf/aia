{
 "cells": [
  {
   "cell_type": "code",
   "execution_count": 1,
   "metadata": {},
   "outputs": [],
   "source": [
    "%matplotlib widget\n",
    "import numpy as np\n",
    "\n",
    "import matplotlib.pyplot as plt\n",
    "\n",
    "from util import latexify, format_axes"
   ]
  },
  {
   "cell_type": "code",
   "execution_count": 2,
   "metadata": {},
   "outputs": [],
   "source": [
    "n = 20\n",
    "sigma = 1\n",
    "c0 = np.random.normal(loc=[4, 4], scale=[sigma, sigma], size=[n, 2])\n",
    "c1 = np.random.normal(loc=[0, 0], scale=[sigma, sigma], size=[n, 2])\n",
    "c2 = np.random.normal(loc=[0, 3], scale=[sigma, sigma], size=[n, 2])\n",
    "c2 = np.random.normal(loc=[0, 3], scale=[sigma, sigma], size=[n, 2])\n",
    "\n",
    "logistic = lambda a, b, x: np.exp(a*x+b)/(1+np.exp(a*x+b))"
   ]
  },
  {
   "cell_type": "code",
   "execution_count": 3,
   "metadata": {},
   "outputs": [
    {
     "name": "stdout",
     "output_type": "stream",
     "text": [
      "WARNING: fig_height too large: 4.326237921249264 so will reduce to 3.75 inches.\n"
     ]
    },
    {
     "data": {
      "application/vnd.jupyter.widget-view+json": {
       "model_id": "9f53858ed3f14c0caab6ebabbe6daf60",
       "version_major": 2,
       "version_minor": 0
      },
      "text/plain": [
       "Canvas(toolbar=Toolbar(toolitems=[('Home', 'Reset original view', 'home', 'home'), ('Back', 'Back to previous …"
      ]
     },
     "metadata": {},
     "output_type": "display_data"
    },
    {
     "data": {
      "text/plain": [
       "[]"
      ]
     },
     "execution_count": 3,
     "metadata": {},
     "output_type": "execute_result"
    }
   ],
   "source": [
    "latexify()\n",
    "fig = plt.figure()\n",
    "ax = fig.add_subplot()\n",
    "ax = format_axes(ax)\n",
    "ax.scatter(c0[:, 0], c0[:, 1])\n",
    "ax.scatter(c1[:, 0], c1[:, 1])\n",
    "ax.set_xlabel('$x_0$')\n",
    "ax.set_ylabel('$x_1$')\n",
    "#ax.set_title('$f(x)$')\n",
    "ax.set_xticks([])\n",
    "ax.set_yticks([]) \n",
    "#plt.savefig('images/classification.png', dpi=150, bbox_inches='tight')"
   ]
  },
  {
   "cell_type": "code",
   "execution_count": 4,
   "metadata": {},
   "outputs": [
    {
     "name": "stdout",
     "output_type": "stream",
     "text": [
      "WARNING: fig_height too large: 4.326237921249264 so will reduce to 3.75 inches.\n"
     ]
    },
    {
     "data": {
      "application/vnd.jupyter.widget-view+json": {
       "model_id": "82263b9bc6c84bcb91adbfcc8dfc57c6",
       "version_major": 2,
       "version_minor": 0
      },
      "text/plain": [
       "Canvas(toolbar=Toolbar(toolitems=[('Home', 'Reset original view', 'home', 'home'), ('Back', 'Back to previous …"
      ]
     },
     "metadata": {},
     "output_type": "display_data"
    },
    {
     "data": {
      "text/plain": [
       "<matplotlib.quiver.Quiver at 0x7f4a0a271910>"
      ]
     },
     "execution_count": 4,
     "metadata": {},
     "output_type": "execute_result"
    }
   ],
   "source": [
    "X = np.concatenate([c0, c1], axis=0)\n",
    "T = np.concatenate([np.zeros(c0.shape[0]), np.ones(c1.shape[0])], axis=0)\n",
    "               \n",
    "w = np.array([1, 1])\n",
    "b = np.array(-2)\n",
    "\n",
    "Yest = np.dot(X, w) + b > 0.5\n",
    "                    \n",
    "latexify()\n",
    "fig = plt.figure()\n",
    "ax = fig.add_subplot()\n",
    "ax = format_axes(ax)\n",
    "#ax.scatter(X[:, 0], X[:, 1], c=T)\n",
    "ax.scatter(X[:, 0], X[:, 1], c=Yest)\n",
    "w_norm = w/np.linalg.norm(w)\n",
    "ax.scatter(w_norm[0]*-b, w_norm[1]*-b, color='r')\n",
    "plt.quiver(0, 0, w[0], w[1], color='g', angles='xy', scale=1)"
   ]
  },
  {
   "cell_type": "code",
   "execution_count": 5,
   "metadata": {},
   "outputs": [],
   "source": [
    "def plot(Yest, X, w, b):\n",
    "    latexify()\n",
    "    fig = plt.figure()\n",
    "    ax = fig.add_subplot()\n",
    "    ax = format_axes(ax)\n",
    "    #ax.scatter(X[:, 0], X[:, 1], c=T)\n",
    "    ax.scatter(X[:, 0], X[:, 1], c=Yest)\n",
    "    \n",
    "    w_norm = w/np.linalg.norm(w)\n",
    "    t = np.linspace(-2, 6, 100)\n",
    "    ax.plot(t, (0.5-b-w[0]*t)/w[1])\n",
    "    \n",
    "    plt.quiver(0, 0, w_norm[0], w_norm[1], color='g', angles='xy', units='xy', scale=0.6) #, scale_units='xy', scale=1)\n",
    "    #ax.scatter(w_norm[0]*-b, w_norm[1]*-b, color='r')\n",
    "    \n",
    "    ax.set_xlim([-3, 6])\n",
    "    ax.set_ylim([-3, 6])\n",
    "    plt.gca().set_aspect('equal', adjustable='box')"
   ]
  },
  {
   "cell_type": "code",
   "execution_count": 6,
   "metadata": {},
   "outputs": [],
   "source": [
    "def update(X, T, w, b, lr):\n",
    "    Y = np.dot(X, w)+b\n",
    "    dw = np.sum((Y-T)[:, np.newaxis]*X, axis=0)\n",
    "    db = np.sum(Y-T, axis=0)\n",
    "    # print(dw, db)\n",
    "    return w-lr*dw, b-lr*db"
   ]
  },
  {
   "cell_type": "code",
   "execution_count": 7,
   "metadata": {
    "collapsed": true,
    "jupyter": {
     "outputs_hidden": true
    }
   },
   "outputs": [
    {
     "name": "stdout",
     "output_type": "stream",
     "text": [
      "WARNING: fig_height too large: 4.326237921249264 so will reduce to 3.75 inches.\n"
     ]
    },
    {
     "data": {
      "application/vnd.jupyter.widget-view+json": {
       "model_id": "41e079482b9149ccbda56cef2af2c3a5",
       "version_major": 2,
       "version_minor": 0
      },
      "text/plain": [
       "Canvas(toolbar=Toolbar(toolitems=[('Home', 'Reset original view', 'home', 'home'), ('Back', 'Back to previous …"
      ]
     },
     "metadata": {},
     "output_type": "display_data"
    },
    {
     "name": "stdout",
     "output_type": "stream",
     "text": [
      "WARNING: fig_height too large: 4.326237921249264 so will reduce to 3.75 inches.\n"
     ]
    },
    {
     "data": {
      "application/vnd.jupyter.widget-view+json": {
       "model_id": "134b71d8419e4da58d2084833a1d7c23",
       "version_major": 2,
       "version_minor": 0
      },
      "text/plain": [
       "Canvas(toolbar=Toolbar(toolitems=[('Home', 'Reset original view', 'home', 'home'), ('Back', 'Back to previous …"
      ]
     },
     "metadata": {},
     "output_type": "display_data"
    },
    {
     "name": "stdout",
     "output_type": "stream",
     "text": [
      "20\n",
      "WARNING: fig_height too large: 4.326237921249264 so will reduce to 3.75 inches.\n"
     ]
    },
    {
     "data": {
      "application/vnd.jupyter.widget-view+json": {
       "model_id": "03c0015ec13f4597849cdc925432bdf7",
       "version_major": 2,
       "version_minor": 0
      },
      "text/plain": [
       "Canvas(toolbar=Toolbar(toolitems=[('Home', 'Reset original view', 'home', 'home'), ('Back', 'Back to previous …"
      ]
     },
     "metadata": {},
     "output_type": "display_data"
    },
    {
     "name": "stdout",
     "output_type": "stream",
     "text": [
      "40\n",
      "WARNING: fig_height too large: 4.326237921249264 so will reduce to 3.75 inches.\n"
     ]
    },
    {
     "data": {
      "application/vnd.jupyter.widget-view+json": {
       "model_id": "3ef5ebc0cda1420eb30cf61e4f2be8e7",
       "version_major": 2,
       "version_minor": 0
      },
      "text/plain": [
       "Canvas(toolbar=Toolbar(toolitems=[('Home', 'Reset original view', 'home', 'home'), ('Back', 'Back to previous …"
      ]
     },
     "metadata": {},
     "output_type": "display_data"
    },
    {
     "name": "stdout",
     "output_type": "stream",
     "text": [
      "60\n",
      "WARNING: fig_height too large: 4.326237921249264 so will reduce to 3.75 inches.\n"
     ]
    },
    {
     "data": {
      "application/vnd.jupyter.widget-view+json": {
       "model_id": "77153cf00fb34ecbaec65f5d3b171845",
       "version_major": 2,
       "version_minor": 0
      },
      "text/plain": [
       "Canvas(toolbar=Toolbar(toolitems=[('Home', 'Reset original view', 'home', 'home'), ('Back', 'Back to previous …"
      ]
     },
     "metadata": {},
     "output_type": "display_data"
    },
    {
     "name": "stdout",
     "output_type": "stream",
     "text": [
      "80\n",
      "WARNING: fig_height too large: 4.326237921249264 so will reduce to 3.75 inches.\n"
     ]
    },
    {
     "data": {
      "application/vnd.jupyter.widget-view+json": {
       "model_id": "9b38e3baa05a46a2875f0a270544daef",
       "version_major": 2,
       "version_minor": 0
      },
      "text/plain": [
       "Canvas(toolbar=Toolbar(toolitems=[('Home', 'Reset original view', 'home', 'home'), ('Back', 'Back to previous …"
      ]
     },
     "metadata": {},
     "output_type": "display_data"
    },
    {
     "name": "stdout",
     "output_type": "stream",
     "text": [
      "100\n",
      "WARNING: fig_height too large: 4.326237921249264 so will reduce to 3.75 inches.\n"
     ]
    },
    {
     "data": {
      "application/vnd.jupyter.widget-view+json": {
       "model_id": "06d902ac4d5b46b7a111f2a3a0939396",
       "version_major": 2,
       "version_minor": 0
      },
      "text/plain": [
       "Canvas(toolbar=Toolbar(toolitems=[('Home', 'Reset original view', 'home', 'home'), ('Back', 'Back to previous …"
      ]
     },
     "metadata": {},
     "output_type": "display_data"
    },
    {
     "name": "stdout",
     "output_type": "stream",
     "text": [
      "120\n",
      "WARNING: fig_height too large: 4.326237921249264 so will reduce to 3.75 inches.\n"
     ]
    },
    {
     "data": {
      "application/vnd.jupyter.widget-view+json": {
       "model_id": "326ba754dedb436882bd8ae5537ee3aa",
       "version_major": 2,
       "version_minor": 0
      },
      "text/plain": [
       "Canvas(toolbar=Toolbar(toolitems=[('Home', 'Reset original view', 'home', 'home'), ('Back', 'Back to previous …"
      ]
     },
     "metadata": {},
     "output_type": "display_data"
    },
    {
     "name": "stdout",
     "output_type": "stream",
     "text": [
      "140\n",
      "WARNING: fig_height too large: 4.326237921249264 so will reduce to 3.75 inches.\n"
     ]
    },
    {
     "data": {
      "application/vnd.jupyter.widget-view+json": {
       "model_id": "e44559c87f4f4d1a858e4214b15e8e54",
       "version_major": 2,
       "version_minor": 0
      },
      "text/plain": [
       "Canvas(toolbar=Toolbar(toolitems=[('Home', 'Reset original view', 'home', 'home'), ('Back', 'Back to previous …"
      ]
     },
     "metadata": {},
     "output_type": "display_data"
    },
    {
     "name": "stdout",
     "output_type": "stream",
     "text": [
      "160\n",
      "WARNING: fig_height too large: 4.326237921249264 so will reduce to 3.75 inches.\n"
     ]
    },
    {
     "data": {
      "application/vnd.jupyter.widget-view+json": {
       "model_id": "6e6f7b3f6e404c4492471d1280f5bfdb",
       "version_major": 2,
       "version_minor": 0
      },
      "text/plain": [
       "Canvas(toolbar=Toolbar(toolitems=[('Home', 'Reset original view', 'home', 'home'), ('Back', 'Back to previous …"
      ]
     },
     "metadata": {},
     "output_type": "display_data"
    },
    {
     "name": "stdout",
     "output_type": "stream",
     "text": [
      "180\n"
     ]
    }
   ],
   "source": [
    "w = np.array([5, 1])\n",
    "b = np.array(1)\n",
    "\n",
    "Yest = np.dot(X, w) + b > 0.5 \n",
    "plot(Yest, X, w, b)\n",
    "plt.savefig('images/gradient_descent_logistic_regression_00.png', dpi=150, bbox_inches='tight')\n",
    "\n",
    "for i in range(1, 200):\n",
    "    w, b = update(X, T, w, b, lr=0.001)\n",
    "    if i%20 == 0:\n",
    "        Yest = np.dot(X, w) + b > 0.5    \n",
    "        plot(Yest, X, w, b)\n",
    "        print(i)\n",
    "        plt.savefig('images/gradient_descent_logistic_regression_%02d.png'%i, dpi=150, bbox_inches='tight')\n",
    "\n",
    "    \n",
    "#Yest = np.dot(X, w) + b > 0.5    \n",
    "#plot(Yest, X, w, b)"
   ]
  },
  {
   "cell_type": "code",
   "execution_count": 8,
   "metadata": {},
   "outputs": [],
   "source": [
    "n = 20\n",
    "sigma = 1\n",
    "c0 = np.random.normal(loc=[4, 4], scale=[sigma, sigma], size=[n, 2])\n",
    "c1 = np.random.normal(loc=[-4, 4], scale=[sigma, sigma], size=[n, 2])\n",
    "c2 = np.random.normal(loc=[-4, -4], scale=[sigma, sigma], size=[n, 2])\n",
    "c3 = np.random.normal(loc=[4, -4], scale=[sigma, sigma], size=[n, 2])\n",
    "\n",
    "c0 = np.concatenate([c0, c2])\n",
    "c1 = np.concatenate([c1, c3])"
   ]
  },
  {
   "cell_type": "code",
   "execution_count": 9,
   "metadata": {},
   "outputs": [
    {
     "name": "stdout",
     "output_type": "stream",
     "text": [
      "WARNING: fig_height too large: 4.326237921249264 so will reduce to 3.75 inches.\n"
     ]
    },
    {
     "data": {
      "application/vnd.jupyter.widget-view+json": {
       "model_id": "2119e5984df84570b903ba9d5c3b78a0",
       "version_major": 2,
       "version_minor": 0
      },
      "text/plain": [
       "Canvas(toolbar=Toolbar(toolitems=[('Home', 'Reset original view', 'home', 'home'), ('Back', 'Back to previous …"
      ]
     },
     "metadata": {},
     "output_type": "display_data"
    }
   ],
   "source": [
    "latexify()\n",
    "fig = plt.figure()\n",
    "ax = fig.add_subplot()\n",
    "ax = format_axes(ax)\n",
    "ax.scatter(c0[:, 0], c0[:, 1])\n",
    "ax.scatter(c1[:, 0], c1[:, 1])\n",
    "ax.set_xlabel('$x_0$', loc='right')\n",
    "ax.set_ylabel('$x_1$', loc='top')\n",
    "#ax.set_title('$f(x)$')\n",
    "ax.set_xticks([])\n",
    "ax.set_yticks([]) \n",
    "plt.savefig('images/classification_xor.png', dpi=150, bbox_inches='tight')"
   ]
  },
  {
   "cell_type": "code",
   "execution_count": 10,
   "metadata": {},
   "outputs": [],
   "source": [
    "n = 100\n",
    "sigma = 0.1\n",
    "\n",
    "r, alpha = np.random.normal(loc=1, scale=sigma, size=[n,]), np.linspace(0, 2*np.pi, n)\n",
    "#print(r)\n",
    "#print(alpha)\n",
    "c0 = np.stack([r*np.cos(alpha), r*np.sin(alpha)]).T \n",
    "#print(c0.shape)\n",
    "c1 = np.random.normal(loc=[0, 0], scale=[sigma, sigma], size=[n, 2])\n"
   ]
  },
  {
   "cell_type": "code",
   "execution_count": 11,
   "metadata": {},
   "outputs": [
    {
     "name": "stdout",
     "output_type": "stream",
     "text": [
      "WARNING: fig_height too large: 4.326237921249264 so will reduce to 3.75 inches.\n"
     ]
    },
    {
     "data": {
      "application/vnd.jupyter.widget-view+json": {
       "model_id": "72530b1a780b4bdc86cb0acf403d216c",
       "version_major": 2,
       "version_minor": 0
      },
      "text/plain": [
       "Canvas(toolbar=Toolbar(toolitems=[('Home', 'Reset original view', 'home', 'home'), ('Back', 'Back to previous …"
      ]
     },
     "metadata": {},
     "output_type": "display_data"
    }
   ],
   "source": [
    "latexify()\n",
    "fig = plt.figure()\n",
    "ax = fig.add_subplot()\n",
    "ax = format_axes(ax)\n",
    "ax.scatter(c0[:, 0], c0[:, 1])\n",
    "ax.scatter(c1[:, 0], c1[:, 1])\n",
    "ax.set_xlabel('$x_0$', loc='right')\n",
    "ax.set_ylabel('$x_1$', loc='top')\n",
    "#ax.set_title('$f(x)$')\n",
    "ax.set_xticks([])\n",
    "ax.set_yticks([]) \n",
    "plt.savefig('images/classification_sin.png', dpi=150, bbox_inches='tight')"
   ]
  },
  {
   "cell_type": "code",
   "execution_count": 12,
   "metadata": {},
   "outputs": [],
   "source": [
    "c0[:, 1] = c0[:, 1]**2 + c0[:, 0]**2\n",
    "c1[:, 1] = c1[:, 1]**2 + c1[:, 1]**2"
   ]
  },
  {
   "cell_type": "code",
   "execution_count": 13,
   "metadata": {},
   "outputs": [
    {
     "name": "stdout",
     "output_type": "stream",
     "text": [
      "WARNING: fig_height too large: 4.326237921249264 so will reduce to 3.75 inches.\n"
     ]
    },
    {
     "data": {
      "application/vnd.jupyter.widget-view+json": {
       "model_id": "a182b0d87e59452fb8988121c053b26b",
       "version_major": 2,
       "version_minor": 0
      },
      "text/plain": [
       "Canvas(toolbar=Toolbar(toolitems=[('Home', 'Reset original view', 'home', 'home'), ('Back', 'Back to previous …"
      ]
     },
     "metadata": {},
     "output_type": "display_data"
    }
   ],
   "source": [
    "latexify()\n",
    "fig = plt.figure()\n",
    "ax = fig.add_subplot()\n",
    "ax = format_axes(ax)\n",
    "ax.scatter(c0[:, 0], c0[:, 1])\n",
    "ax.scatter(c1[:, 0], c1[:, 1])\n",
    "ax.set_xlabel('$x_0$', loc='right')\n",
    "ax.set_ylabel('$x_1^2+x_2^2$', loc='top')\n",
    "#ax.set_title('$f(x)$')\n",
    "ax.set_xticks([])\n",
    "ax.set_yticks([]) \n",
    "plt.savefig('images/classification_sin_mapped.png', dpi=150, bbox_inches='tight')"
   ]
  },
  {
   "cell_type": "code",
   "execution_count": 78,
   "metadata": {},
   "outputs": [
    {
     "name": "stdout",
     "output_type": "stream",
     "text": [
      "WARNING: fig_height too large: 4.326237921249264 so will reduce to 3.75 inches.\n"
     ]
    },
    {
     "data": {
      "application/vnd.jupyter.widget-view+json": {
       "model_id": "2a7e6f388fa847bba8ca3094ab708e9b",
       "version_major": 2,
       "version_minor": 0
      },
      "text/plain": [
       "Canvas(toolbar=Toolbar(toolitems=[('Home', 'Reset original view', 'home', 'home'), ('Back', 'Back to previous …"
      ]
     },
     "metadata": {},
     "output_type": "display_data"
    },
    {
     "name": "stdout",
     "output_type": "stream",
     "text": [
      "WARNING: fig_height too large: 4.326237921249264 so will reduce to 3.75 inches.\n"
     ]
    },
    {
     "data": {
      "application/vnd.jupyter.widget-view+json": {
       "model_id": "cb2fb9e1732347d2a414aac62cb248ba",
       "version_major": 2,
       "version_minor": 0
      },
      "text/plain": [
       "Canvas(toolbar=Toolbar(toolitems=[('Home', 'Reset original view', 'home', 'home'), ('Back', 'Back to previous …"
      ]
     },
     "metadata": {},
     "output_type": "display_data"
    },
    {
     "name": "stdout",
     "output_type": "stream",
     "text": [
      "WARNING: fig_height too large: 4.326237921249264 so will reduce to 3.75 inches.\n"
     ]
    },
    {
     "data": {
      "application/vnd.jupyter.widget-view+json": {
       "model_id": "2c7cf2350c0a40159f9b8e6447321942",
       "version_major": 2,
       "version_minor": 0
      },
      "text/plain": [
       "Canvas(toolbar=Toolbar(toolitems=[('Home', 'Reset original view', 'home', 'home'), ('Back', 'Back to previous …"
      ]
     },
     "metadata": {},
     "output_type": "display_data"
    },
    {
     "name": "stdout",
     "output_type": "stream",
     "text": [
      "WARNING: fig_height too large: 4.326237921249264 so will reduce to 3.75 inches.\n"
     ]
    },
    {
     "data": {
      "application/vnd.jupyter.widget-view+json": {
       "model_id": "299dc9a2d34148d2b252ff94a68ed9a9",
       "version_major": 2,
       "version_minor": 0
      },
      "text/plain": [
       "Canvas(toolbar=Toolbar(toolitems=[('Home', 'Reset original view', 'home', 'home'), ('Back', 'Back to previous …"
      ]
     },
     "metadata": {},
     "output_type": "display_data"
    },
    {
     "name": "stdout",
     "output_type": "stream",
     "text": [
      "WARNING: fig_height too large: 4.326237921249264 so will reduce to 3.75 inches.\n"
     ]
    },
    {
     "data": {
      "application/vnd.jupyter.widget-view+json": {
       "model_id": "67fa98dcfb0d411eace6da72343974c9",
       "version_major": 2,
       "version_minor": 0
      },
      "text/plain": [
       "Canvas(toolbar=Toolbar(toolitems=[('Home', 'Reset original view', 'home', 'home'), ('Back', 'Back to previous …"
      ]
     },
     "metadata": {},
     "output_type": "display_data"
    }
   ],
   "source": [
    "def sigmoid(x):\n",
    "    return 1/(1+np.exp(-x))\n",
    "\n",
    "def tanh(x):\n",
    "    return (np.exp(x)-np.exp(-x))/(np.exp(x)+np.exp(-x))\n",
    "\n",
    "x = np.linspace(-5, 5, 1000)\n",
    "\n",
    "y0 = x\n",
    "dy0 = np.ones(x.shape)\n",
    "\n",
    "y1 = tanh(x)\n",
    "dy1 = 1-tanh(x)**2\n",
    "\n",
    "y2 = sigmoid(x)\n",
    "dy2 = sigmoid(x)*(1-sigmoid(x))\n",
    "\n",
    "y3 = np.maximum(0, x)\n",
    "dy3 = np.equal(y3, x)\n",
    "\n",
    "y4 = np.maximum(x/5, x)\n",
    "dy4 = np.maximum(1/5, np.equal(y3, x))\n",
    "                         \n",
    "latexify()\n",
    "fig = plt.figure()\n",
    "ax = fig.add_subplot()\n",
    "ax = format_axes(ax)\n",
    "l1, = ax.plot(x, y0, label='$f(x)=x$')\n",
    "l2, = ax.plot(x, dy0, label='$f`(x)=1$')\n",
    "ax.set_title('linear')\n",
    "ax.set_xticks([])\n",
    "ax.set_yticks([]) \n",
    "plt.legend(handles=[l1, l2])\n",
    "plt.savefig('images/activations_lin.png', dpi=150, bbox_inches='tight')     \n",
    "\n",
    "latexify()\n",
    "fig = plt.figure()\n",
    "ax = fig.add_subplot()\n",
    "ax = format_axes(ax)\n",
    "l1, = ax.plot(x, y1, label='$f(x)=tanh(x)$')\n",
    "l2, = ax.plot(x, dy1, label='$f`(x)=1-f^2(x)$')\n",
    "ax.set_title('$tanh$')\n",
    "ax.set_xticks([])\n",
    "ax.set_yticks([]) \n",
    "plt.legend(handles=[l1, l2])\n",
    "plt.savefig('images/activations_tanh.png', dpi=150, bbox_inches='tight')\n",
    "\n",
    "latexify()\n",
    "fig = plt.figure()\n",
    "ax = fig.add_subplot()\n",
    "ax = format_axes(ax)\n",
    "l1, = ax.plot(x, y2, label='$f(x)=sigmoid(x)$')\n",
    "l2, = ax.plot(x, dy2, label='$f`(x)=f(x)(1-f(x))$')\n",
    "ax.set_title('$logistic$')\n",
    "ax.set_xticks([])\n",
    "ax.set_yticks([]) \n",
    "plt.legend(handles=[l1, l2])\n",
    "plt.savefig('images/activations_logistic.png', dpi=150, bbox_inches='tight')\n",
    "\n",
    "\n",
    "latexify()\n",
    "fig = plt.figure()\n",
    "ax = fig.add_subplot()\n",
    "ax = format_axes(ax)\n",
    "l1, = ax.plot(x, y3, label=r\"$f(x)=\\left\\{\\begin{array}{lr} 0, & x \\leq 0\\\\  x, & x > 0 \\end{array}\\right.$\")\n",
    "l2, = ax.plot(x, dy3, label=r\"$f(x)=\\left\\{\\begin{array}{lr} 0, & x \\leq 0\\\\  1, & x > 0 \\end{array}\\right.$\")\n",
    "ax.set_title('$ReLU$')\n",
    "ax.set_xticks([])\n",
    "ax.set_yticks([]) \n",
    "plt.legend(handles=[l1, l2])\n",
    "plt.savefig('images/activations_relu.png', dpi=150, bbox_inches='tight')\n",
    "\n",
    "\n",
    "latexify()\n",
    "fig = plt.figure()\n",
    "ax = fig.add_subplot()\n",
    "ax = format_axes(ax)\n",
    "l1, = ax.plot(x, y4, label=r\"$f(x)=\\left\\{\\begin{array}{lr} 0.2x, & x \\leq 0\\\\  x, & x > 0 \\end{array}\\right.$\")\n",
    "l2, = ax.plot(x, dy4, label=r\"$f(x)=\\left\\{\\begin{array}{lr} 0.2, & x \\leq 0\\\\  1, & x > 0 \\end{array}\\right.$\")\n",
    "ax.set_title('$Leaky~ReLU$')\n",
    "ax.set_xticks([])\n",
    "ax.set_yticks([]) \n",
    "plt.legend(handles=[l1, l2])\n",
    "plt.savefig('images/activations_lrelu.png', dpi=150, bbox_inches='tight')"
   ]
  },
  {
   "cell_type": "code",
   "execution_count": 82,
   "metadata": {},
   "outputs": [
    {
     "name": "stdout",
     "output_type": "stream",
     "text": [
      "WARNING: fig_height too large: 4.326237921249264 so will reduce to 3.75 inches.\n"
     ]
    },
    {
     "data": {
      "application/vnd.jupyter.widget-view+json": {
       "model_id": "13c590c7b1124e76a87c083b44506d08",
       "version_major": 2,
       "version_minor": 0
      },
      "text/plain": [
       "Canvas(toolbar=Toolbar(toolitems=[('Home', 'Reset original view', 'home', 'home'), ('Back', 'Back to previous …"
      ]
     },
     "metadata": {},
     "output_type": "display_data"
    }
   ],
   "source": [
    "x = np.linspace(0, 20, 1000)\n",
    "t = 1/(0.1*x+0.1)\n",
    "v = 1/(0.07*x+0.1) + 0.2*(x-2)\n",
    "\n",
    "latexify()\n",
    "fig = plt.figure()\n",
    "ax = fig.add_subplot()\n",
    "ax = format_axes(ax)\n",
    "l1, = ax.plot(x, t, label=r\"training set\")\n",
    "l2, = ax.plot(x, v, label=r\"validation set\")\n",
    "ax.set_xlabel('training iterations', loc='right')\n",
    "ax.set_ylabel('Error', loc='top')\n",
    "#ax.set_title('$Leaky~ReLU$')\n",
    "ax.set_xticks([])\n",
    "ax.set_yticks([]) \n",
    "plt.legend(handles=[l1, l2])\n",
    "plt.savefig('images/training_curve.png', dpi=150, bbox_inches='tight')"
   ]
  },
  {
   "cell_type": "code",
   "execution_count": null,
   "metadata": {},
   "outputs": [],
   "source": []
  }
 ],
 "metadata": {
  "kernelspec": {
   "display_name": "Python 3",
   "language": "python",
   "name": "python3"
  },
  "language_info": {
   "codemirror_mode": {
    "name": "ipython",
    "version": 3
   },
   "file_extension": ".py",
   "mimetype": "text/x-python",
   "name": "python",
   "nbconvert_exporter": "python",
   "pygments_lexer": "ipython3",
   "version": "3.9.4"
  }
 },
 "nbformat": 4,
 "nbformat_minor": 4
}
